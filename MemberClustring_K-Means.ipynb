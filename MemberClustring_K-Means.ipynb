{
 "cells": [
  {
   "cell_type": "code",
   "execution_count": null,
   "metadata": {},
   "outputs": [],
   "source": [
    "# !pip install kmodes\n",
    "# !pip install plotnine\n",
    "# !pip install tabulate\n",
    "# !pip install pandas_gbq \n",
    "# !pip install faiss"
   ]
  },
  {
   "cell_type": "code",
   "execution_count": 1,
   "metadata": {},
   "outputs": [],
   "source": [
    "PROJECT='driven-insights' \n",
    "\n",
    "BUCKET='Carwash'\n",
    "REGION='us-east1'"
   ]
  },
  {
   "cell_type": "code",
   "execution_count": 2,
   "metadata": {},
   "outputs": [],
   "source": [
    "import pandas as pd\n",
    "import numpy as np\n",
    "import matplotlib.pylab as plt\n",
    "from sklearn import preprocessing\n",
    "from sklearn import cluster\n",
    "from sklearn.metrics import silhouette_score\n",
    "from sklearn.cluster import KMeans\n",
    "from statsmodels.stats.outliers_influence import variance_inflation_factor\n",
    "from datetime import date"
   ]
  },
  {
   "cell_type": "markdown",
   "metadata": {},
   "source": [
    "### Change Working Directory"
   ]
  },
  {
   "cell_type": "code",
   "execution_count": null,
   "metadata": {},
   "outputs": [],
   "source": [
    "# Import the os module\n",
    "import os\n",
    "\n",
    "path = '/home/jupyter/Clustering/Member_Clustering'\n",
    "\n",
    "try:\n",
    "    os.chdir(path)\n",
    "    print(\"Current working directory: {0}\".format(os.getcwd()))\n",
    "except FileNotFoundError:\n",
    "    print(\"Directory: {0} does not exist\".format(path))\n",
    "except NotADirectoryError:\n",
    "    print(\"{0} is not a directory\".format(path))\n",
    "except PermissionError:\n",
    "    print(\"You do not have permissions to change to {0}\".format(path))"
   ]
  },
  {
   "cell_type": "code",
   "execution_count": null,
   "metadata": {},
   "outputs": [],
   "source": [
    "import os\n",
    "directory_path = os.getcwd()\n",
    "print(\"My current directory is : \" + directory_path)\n",
    "folder_name = os.path.basename(directory_path)\n",
    "print(\"My directory name is : \" + folder_name)"
   ]
  },
  {
   "cell_type": "markdown",
   "metadata": {},
   "source": [
    "### Importing Data"
   ]
  },
  {
   "cell_type": "code",
   "execution_count": 3,
   "metadata": {},
   "outputs": [],
   "source": [
    "from google.cloud import bigquery\n",
    "bq = bigquery.Client(project=PROJECT)\n",
    "\n",
    "query = \"\"\"\n",
    "\n",
    "SELECT * \n",
    "FROM `driven-insights.steven_jordan.Member_Clustering_Customer_Level_v2`\n",
    "\n",
    "\"\"\"\n",
    "\n",
    "dataori = bq.query(query, location='US').to_dataframe()"
   ]
  },
  {
   "cell_type": "code",
   "execution_count": 4,
   "metadata": {},
   "outputs": [],
   "source": [
    "data = dataori"
   ]
  },
  {
   "cell_type": "code",
   "execution_count": 5,
   "metadata": {},
   "outputs": [],
   "source": [
    "df1 = data[[\n",
    "    \n",
    "    # 'customerid',\n",
    "    'memberstatus',\n",
    "    # 'memberoriginalstartdate',\n",
    "    # 'memberstartdate',\n",
    "    # 'firsttransaction',\n",
    "    # 'MemberExpirationDate',\n",
    "    # 'month',\n",
    "    # 'lastrechargedate',\n",
    "    # 'calcstart',\n",
    "    # 'calclastrecharge',\n",
    "    # 'calcexpiration',\n",
    "    # 'spring',\n",
    "    # 'summer',\n",
    "    # 'fall',\n",
    "    # 'winter',\n",
    "    'membertenure',\n",
    "    'repeatmember',\n",
    "    # 'overlapmembership',\n",
    "    # 'samedaypurchase',\n",
    "    # 'MCC',\n",
    "    # 'T5',\n",
    "    # 'MAA',\n",
    "    # 'revenue',\n",
    "    # 'discounts',\n",
    "    # 'recency',\n",
    "    # 'frequency',\n",
    "    # 'sitesvisited',\n",
    "    'median_days_between_member_trips',\n",
    "    # 'membersitename',\n",
    "    # 'membersite',\n",
    "    # 'mostvisited',\n",
    "    # 'median_miles_to_site',\n",
    "    # 'displaced_member',\n",
    "    # 'acquisitionsource',\n",
    "    # 'ConvertedMember',\n",
    "    # 'CRM_Message_Count',\n",
    "    # 'memberlastknownstatusdescription',\n",
    "    # 'customercity',\n",
    "    # 'customerstate',\n",
    "    # 'customerpostal',\n",
    "    # 'customerlatitude',\n",
    "    # 'customerlongitude',\n",
    "    # 'vehicleyear',\n",
    "    # 'vehiclemake',\n",
    "    # 'vehiclemodel',\n",
    "    # 'lifestagecluster',\n",
    "    # 'occupation',\n",
    "    # 'race',\n",
    "    # 'ownerrenter',\n",
    "    # 'householdincome',\n",
    "    # 'homemarketvalue',\n",
    "    # 'generation',\n",
    "    # 'birthyear',\n",
    "    # 'maritalstatus',\n",
    "    # 'gender',\n",
    "    # 'education',\n",
    "    # 'numberchildren',\n",
    "    # 'phonecollected',\n",
    "    # 'emailcollected',\n",
    "    # 'addresscollected',\n",
    "    'revenue_per_member_month',\n",
    "    'frequency_per_member_month',\n",
    "    'discounts_per_member_month'\n",
    "    #'rownum'\n",
    "\n",
    "\n",
    "\n",
    "]]"
   ]
  },
  {
   "cell_type": "code",
   "execution_count": 6,
   "metadata": {},
   "outputs": [
    {
     "name": "stdout",
     "output_type": "stream",
     "text": [
      "(229155, 7)\n",
      "<class 'pandas.core.frame.DataFrame'>\n",
      "RangeIndex: 229155 entries, 0 to 229154\n",
      "Data columns (total 7 columns):\n",
      " #   Column                            Non-Null Count   Dtype  \n",
      "---  ------                            --------------   -----  \n",
      " 0   memberstatus                      229155 non-null  object \n",
      " 1   membertenure                      229155 non-null  float64\n",
      " 2   repeatmember                      229155 non-null  bool   \n",
      " 3   median_days_between_member_trips  193383 non-null  float64\n",
      " 4   revenue_per_member_month          229155 non-null  float64\n",
      " 5   frequency_per_member_month        229155 non-null  float64\n",
      " 6   discounts_per_member_month        89133 non-null   float64\n",
      "dtypes: bool(1), float64(5), object(1)\n",
      "memory usage: 10.7+ MB\n"
     ]
    }
   ],
   "source": [
    "print(df1.shape)\n",
    "df1.info()"
   ]
  },
  {
   "cell_type": "code",
   "execution_count": 7,
   "metadata": {},
   "outputs": [],
   "source": [
    "#converting datatypes\n",
    "df1 = df1.astype({#\"MCC\": np.object, \"T5\": np.object, \"MAA\": np.object, \n",
    "                 \"repeatmember\": np.object,\n",
    "                 #'spring': np.float, 'summer': np.float, 'fall': np.float, 'winter': np.float,\n",
    "                 #'sitesvisited': np.float,\n",
    "                 #'vehicleyear': np.float\n",
    "                 })"
   ]
  },
  {
   "cell_type": "markdown",
   "metadata": {},
   "source": [
    "### Seperating Numeric and Categorical Variables"
   ]
  },
  {
   "cell_type": "code",
   "execution_count": 8,
   "metadata": {},
   "outputs": [
    {
     "name": "stdout",
     "output_type": "stream",
     "text": [
      "Categorical(no Bool) columns           : ['memberstatus', 'repeatmember']\n",
      "Categorical(no Bool) columns position  : [0, 2]\n"
     ]
    }
   ],
   "source": [
    "# Get the position of categorical (without boolean) columns\n",
    "catColumnsPosTEMP = [df1.columns.get_loc(col) for col in list(df1.select_dtypes('object').columns)]\n",
    "print('Categorical(no Bool) columns           : {}'.format(list(df1.select_dtypes('object').columns)))\n",
    "print('Categorical(no Bool) columns position  : {}'.format(catColumnsPosTEMP))"
   ]
  },
  {
   "cell_type": "code",
   "execution_count": null,
   "metadata": {},
   "outputs": [],
   "source": [
    "# # Get the position of categorical columns\n",
    "# catColumnsPos = [df1.columns.get_loc(col) for col in list(df1.select_dtypes(['object', 'bool']).columns)]\n",
    "# print('Categorical columns           : {}'.format(list(df1.select_dtypes(['object', 'bool']).columns)))\n",
    "# print('Categorical columns position  : {}'.format(catColumnsPos))"
   ]
  },
  {
   "cell_type": "code",
   "execution_count": 9,
   "metadata": {},
   "outputs": [
    {
     "name": "stdout",
     "output_type": "stream",
     "text": [
      "['membertenure', 'median_days_between_member_trips', 'revenue_per_member_month', 'frequency_per_member_month', 'discounts_per_member_month']\n",
      "5\n"
     ]
    }
   ],
   "source": [
    "# Get columns whose data type is numeric \n",
    "filteredColumns_num = df1.dtypes[df1.dtypes == np.float64]\n",
    "# list of columns whose data type is numeric\n",
    "listOfColumnNames = list(filteredColumns_num.index)\n",
    "print(listOfColumnNames)\n",
    "print(len(listOfColumnNames))"
   ]
  },
  {
   "cell_type": "markdown",
   "metadata": {},
   "source": [
    "### Imputation"
   ]
  },
  {
   "cell_type": "code",
   "execution_count": 10,
   "metadata": {},
   "outputs": [
    {
     "data": {
      "text/plain": [
       "memberstatus                             0\n",
       "membertenure                             0\n",
       "repeatmember                             0\n",
       "median_days_between_member_trips     35772\n",
       "revenue_per_member_month                 0\n",
       "frequency_per_member_month               0\n",
       "discounts_per_member_month          140022\n",
       "dtype: int64"
      ]
     },
     "execution_count": 10,
     "metadata": {},
     "output_type": "execute_result"
    }
   ],
   "source": [
    "df1.isnull().sum()"
   ]
  },
  {
   "cell_type": "code",
   "execution_count": null,
   "metadata": {},
   "outputs": [],
   "source": [
    "# Categorical variables replace with Unknown\n",
    "# df1[['memberstatus', 'ownerrenter', 'householdincome', 'homemarketvalue', 'generation', 'maritalstatus', 'gender', 'education', 'numberchildren']] = df1[['memberstatus', 'ownerrenter', 'householdincome', 'homemarketvalue', 'generation', 'maritalstatus', 'gender', 'education', 'numberchildren']].fillna(\"Unknown\")"
   ]
  },
  {
   "cell_type": "code",
   "execution_count": 11,
   "metadata": {},
   "outputs": [],
   "source": [
    "# Numeric variables imputation\n",
    "#df1[\"discounts\"].fillna(0, inplace = True)\n",
    "df1[\"median_days_between_member_trips\"].fillna(df1[\"median_days_between_member_trips\"].max(), inplace = True)\n",
    "#df1[\"vehicleyear\"].fillna(df1[\"vehicleyear\"].median(), inplace = True)\n",
    "# df1[\"revenue_per_member_month\"].fillna(0, inplace = True)\n",
    "df1[\"discounts_per_member_month\"].fillna(0, inplace = True)"
   ]
  },
  {
   "cell_type": "code",
   "execution_count": 12,
   "metadata": {},
   "outputs": [],
   "source": [
    "df1 = df1.dropna()"
   ]
  },
  {
   "cell_type": "code",
   "execution_count": 13,
   "metadata": {},
   "outputs": [
    {
     "name": "stdout",
     "output_type": "stream",
     "text": [
      "(229155, 7)\n"
     ]
    },
    {
     "data": {
      "text/html": [
       "<div>\n",
       "<style scoped>\n",
       "    .dataframe tbody tr th:only-of-type {\n",
       "        vertical-align: middle;\n",
       "    }\n",
       "\n",
       "    .dataframe tbody tr th {\n",
       "        vertical-align: top;\n",
       "    }\n",
       "\n",
       "    .dataframe thead th {\n",
       "        text-align: right;\n",
       "    }\n",
       "</style>\n",
       "<table border=\"1\" class=\"dataframe\">\n",
       "  <thead>\n",
       "    <tr style=\"text-align: right;\">\n",
       "      <th></th>\n",
       "      <th>memberstatus</th>\n",
       "      <th>membertenure</th>\n",
       "      <th>repeatmember</th>\n",
       "      <th>median_days_between_member_trips</th>\n",
       "      <th>revenue_per_member_month</th>\n",
       "      <th>frequency_per_member_month</th>\n",
       "      <th>discounts_per_member_month</th>\n",
       "    </tr>\n",
       "  </thead>\n",
       "  <tbody>\n",
       "    <tr>\n",
       "      <th>0</th>\n",
       "      <td>Former Member</td>\n",
       "      <td>8.0</td>\n",
       "      <td>True</td>\n",
       "      <td>26.0</td>\n",
       "      <td>30.625000</td>\n",
       "      <td>0.250000</td>\n",
       "      <td>-2.625000</td>\n",
       "    </tr>\n",
       "    <tr>\n",
       "      <th>1</th>\n",
       "      <td>Former Member</td>\n",
       "      <td>28.0</td>\n",
       "      <td>True</td>\n",
       "      <td>2.0</td>\n",
       "      <td>26.242500</td>\n",
       "      <td>9.321429</td>\n",
       "      <td>-0.642857</td>\n",
       "    </tr>\n",
       "    <tr>\n",
       "      <th>2</th>\n",
       "      <td>Former Member</td>\n",
       "      <td>14.0</td>\n",
       "      <td>True</td>\n",
       "      <td>7.0</td>\n",
       "      <td>31.848571</td>\n",
       "      <td>3.357143</td>\n",
       "      <td>0.000000</td>\n",
       "    </tr>\n",
       "    <tr>\n",
       "      <th>3</th>\n",
       "      <td>Former Member</td>\n",
       "      <td>5.0</td>\n",
       "      <td>False</td>\n",
       "      <td>4.0</td>\n",
       "      <td>30.800000</td>\n",
       "      <td>5.000000</td>\n",
       "      <td>0.000000</td>\n",
       "    </tr>\n",
       "    <tr>\n",
       "      <th>4</th>\n",
       "      <td>Former Member</td>\n",
       "      <td>18.0</td>\n",
       "      <td>True</td>\n",
       "      <td>8.0</td>\n",
       "      <td>3.871111</td>\n",
       "      <td>0.888889</td>\n",
       "      <td>-0.500000</td>\n",
       "    </tr>\n",
       "  </tbody>\n",
       "</table>\n",
       "</div>"
      ],
      "text/plain": [
       "    memberstatus  membertenure repeatmember  median_days_between_member_trips  \\\n",
       "0  Former Member           8.0         True                              26.0   \n",
       "1  Former Member          28.0         True                               2.0   \n",
       "2  Former Member          14.0         True                               7.0   \n",
       "3  Former Member           5.0        False                               4.0   \n",
       "4  Former Member          18.0         True                               8.0   \n",
       "\n",
       "   revenue_per_member_month  frequency_per_member_month  \\\n",
       "0                 30.625000                    0.250000   \n",
       "1                 26.242500                    9.321429   \n",
       "2                 31.848571                    3.357143   \n",
       "3                 30.800000                    5.000000   \n",
       "4                  3.871111                    0.888889   \n",
       "\n",
       "   discounts_per_member_month  \n",
       "0                   -2.625000  \n",
       "1                   -0.642857  \n",
       "2                    0.000000  \n",
       "3                    0.000000  \n",
       "4                   -0.500000  "
      ]
     },
     "execution_count": 13,
     "metadata": {},
     "output_type": "execute_result"
    }
   ],
   "source": [
    "print(df1.shape)\n",
    "df1.head()"
   ]
  },
  {
   "cell_type": "code",
   "execution_count": 14,
   "metadata": {},
   "outputs": [
    {
     "data": {
      "text/plain": [
       "memberstatus                        0\n",
       "membertenure                        0\n",
       "repeatmember                        0\n",
       "median_days_between_member_trips    0\n",
       "revenue_per_member_month            0\n",
       "frequency_per_member_month          0\n",
       "discounts_per_member_month          0\n",
       "dtype: int64"
      ]
     },
     "execution_count": 14,
     "metadata": {},
     "output_type": "execute_result"
    }
   ],
   "source": [
    "df1.isnull().sum()"
   ]
  },
  {
   "cell_type": "code",
   "execution_count": null,
   "metadata": {},
   "outputs": [],
   "source": [
    "# df1.shape"
   ]
  },
  {
   "cell_type": "code",
   "execution_count": 15,
   "metadata": {},
   "outputs": [
    {
     "data": {
      "text/html": [
       "<div>\n",
       "<style scoped>\n",
       "    .dataframe tbody tr th:only-of-type {\n",
       "        vertical-align: middle;\n",
       "    }\n",
       "\n",
       "    .dataframe tbody tr th {\n",
       "        vertical-align: top;\n",
       "    }\n",
       "\n",
       "    .dataframe thead th {\n",
       "        text-align: right;\n",
       "    }\n",
       "</style>\n",
       "<table border=\"1\" class=\"dataframe\">\n",
       "  <thead>\n",
       "    <tr style=\"text-align: right;\">\n",
       "      <th></th>\n",
       "      <th>membertenure</th>\n",
       "      <th>median_days_between_member_trips</th>\n",
       "      <th>revenue_per_member_month</th>\n",
       "      <th>frequency_per_member_month</th>\n",
       "      <th>discounts_per_member_month</th>\n",
       "    </tr>\n",
       "  </thead>\n",
       "  <tbody>\n",
       "    <tr>\n",
       "      <th>count</th>\n",
       "      <td>229155.000000</td>\n",
       "      <td>229155.000000</td>\n",
       "      <td>229155.000000</td>\n",
       "      <td>229155.000000</td>\n",
       "      <td>229155.000000</td>\n",
       "    </tr>\n",
       "    <tr>\n",
       "      <th>mean</th>\n",
       "      <td>10.952897</td>\n",
       "      <td>173.815169</td>\n",
       "      <td>23.492680</td>\n",
       "      <td>2.424887</td>\n",
       "      <td>-2.944608</td>\n",
       "    </tr>\n",
       "    <tr>\n",
       "      <th>std</th>\n",
       "      <td>13.157832</td>\n",
       "      <td>377.584504</td>\n",
       "      <td>15.298607</td>\n",
       "      <td>2.936235</td>\n",
       "      <td>7.922919</td>\n",
       "    </tr>\n",
       "    <tr>\n",
       "      <th>min</th>\n",
       "      <td>1.000000</td>\n",
       "      <td>0.000000</td>\n",
       "      <td>-67.410000</td>\n",
       "      <td>0.011111</td>\n",
       "      <td>-111.980000</td>\n",
       "    </tr>\n",
       "    <tr>\n",
       "      <th>25%</th>\n",
       "      <td>2.000000</td>\n",
       "      <td>5.000000</td>\n",
       "      <td>13.330000</td>\n",
       "      <td>1.000000</td>\n",
       "      <td>-1.948109</td>\n",
       "    </tr>\n",
       "    <tr>\n",
       "      <th>50%</th>\n",
       "      <td>6.000000</td>\n",
       "      <td>9.000000</td>\n",
       "      <td>25.000000</td>\n",
       "      <td>1.714286</td>\n",
       "      <td>0.000000</td>\n",
       "    </tr>\n",
       "    <tr>\n",
       "      <th>75%</th>\n",
       "      <td>14.000000</td>\n",
       "      <td>20.000000</td>\n",
       "      <td>32.740000</td>\n",
       "      <td>3.000000</td>\n",
       "      <td>0.000000</td>\n",
       "    </tr>\n",
       "    <tr>\n",
       "      <th>max</th>\n",
       "      <td>328.000000</td>\n",
       "      <td>1050.000000</td>\n",
       "      <td>720.980000</td>\n",
       "      <td>213.000000</td>\n",
       "      <td>0.000000</td>\n",
       "    </tr>\n",
       "  </tbody>\n",
       "</table>\n",
       "</div>"
      ],
      "text/plain": [
       "        membertenure  median_days_between_member_trips  \\\n",
       "count  229155.000000                     229155.000000   \n",
       "mean       10.952897                        173.815169   \n",
       "std        13.157832                        377.584504   \n",
       "min         1.000000                          0.000000   \n",
       "25%         2.000000                          5.000000   \n",
       "50%         6.000000                          9.000000   \n",
       "75%        14.000000                         20.000000   \n",
       "max       328.000000                       1050.000000   \n",
       "\n",
       "       revenue_per_member_month  frequency_per_member_month  \\\n",
       "count             229155.000000               229155.000000   \n",
       "mean                  23.492680                    2.424887   \n",
       "std                   15.298607                    2.936235   \n",
       "min                  -67.410000                    0.011111   \n",
       "25%                   13.330000                    1.000000   \n",
       "50%                   25.000000                    1.714286   \n",
       "75%                   32.740000                    3.000000   \n",
       "max                  720.980000                  213.000000   \n",
       "\n",
       "       discounts_per_member_month  \n",
       "count               229155.000000  \n",
       "mean                    -2.944608  \n",
       "std                      7.922919  \n",
       "min                   -111.980000  \n",
       "25%                     -1.948109  \n",
       "50%                      0.000000  \n",
       "75%                      0.000000  \n",
       "max                      0.000000  "
      ]
     },
     "execution_count": 15,
     "metadata": {},
     "output_type": "execute_result"
    }
   ],
   "source": [
    "# selecting the numeric variables out from DF for scaling\n",
    "x = df1[['membertenure', 'median_days_between_member_trips', 'revenue_per_member_month', 'frequency_per_member_month', 'discounts_per_member_month']]\n",
    "x.describe()"
   ]
  },
  {
   "cell_type": "code",
   "execution_count": null,
   "metadata": {},
   "outputs": [],
   "source": []
  },
  {
   "cell_type": "markdown",
   "metadata": {},
   "source": [
    "### VIF"
   ]
  },
  {
   "cell_type": "code",
   "execution_count": null,
   "metadata": {},
   "outputs": [],
   "source": [
    "# # run VIF for numeric variables\n",
    "# num_col = df1[['membertenure',  'revenue_per_member_month', 'frequency_per_member_month', 'discounts_per_member_month']]\n",
    "\n",
    "# # VIF dataframe\n",
    "# vif_num = pd.DataFrame()\n",
    "# vif_num[\"feature\"] = num_col.columns\n",
    "  \n",
    "# # calculating VIF for each numeric feature\n",
    "# vif_num[\"VIF\"] = [variance_inflation_factor(num_col.values, i)\n",
    "#                           for i in range(len(num_col.columns))]\n",
    "  \n",
    "# print(vif_num)"
   ]
  },
  {
   "cell_type": "code",
   "execution_count": 16,
   "metadata": {},
   "outputs": [
    {
     "name": "stdout",
     "output_type": "stream",
     "text": [
      "                            feature       VIF\n",
      "0                      membertenure  1.708870\n",
      "1  median_days_between_member_trips  1.207296\n",
      "2          revenue_per_member_month  2.540699\n",
      "3        frequency_per_member_month  1.898659\n",
      "4        discounts_per_member_month  1.228684\n",
      "5        memberstatus_Former Member  2.511497\n",
      "6                 repeatmember_True  1.663203\n"
     ]
    }
   ],
   "source": [
    "# run VIF for all the variables\n",
    "dummies_col = pd.get_dummies(df1, drop_first=True, columns= ['memberstatus', 'repeatmember'])\n",
    "dummies_col.head()\n",
    "# VIF dataframe\n",
    "vif_dummies = pd.DataFrame()\n",
    "vif_dummies[\"feature\"] = dummies_col.columns\n",
    "  \n",
    "# calculating VIF for each categorical feature\n",
    "vif_dummies[\"VIF\"] = [variance_inflation_factor(dummies_col.values, i)\n",
    "                          for i in range(len(dummies_col.columns))]\n",
    "  \n",
    "print(vif_dummies)\n",
    "# print(vif_dummies[vif_dummies[\"VIF\"] > 5])"
   ]
  },
  {
   "cell_type": "code",
   "execution_count": null,
   "metadata": {},
   "outputs": [],
   "source": []
  },
  {
   "cell_type": "markdown",
   "metadata": {},
   "source": [
    "### Scaling Numeric and Dummy Categorical Variables"
   ]
  },
  {
   "cell_type": "code",
   "execution_count": 17,
   "metadata": {},
   "outputs": [],
   "source": [
    "# Normalize the variables to have mean=0 and sd=1\n",
    "clusterdata=x.copy()\n",
    "for i in range(clusterdata.shape[1]):\n",
    "    clusterdata.iloc[:,i] = preprocessing.scale(clusterdata.iloc[:,i].astype('float64'))"
   ]
  },
  {
   "cell_type": "code",
   "execution_count": 18,
   "metadata": {},
   "outputs": [
    {
     "data": {
      "text/html": [
       "<div>\n",
       "<style scoped>\n",
       "    .dataframe tbody tr th:only-of-type {\n",
       "        vertical-align: middle;\n",
       "    }\n",
       "\n",
       "    .dataframe tbody tr th {\n",
       "        vertical-align: top;\n",
       "    }\n",
       "\n",
       "    .dataframe thead th {\n",
       "        text-align: right;\n",
       "    }\n",
       "</style>\n",
       "<table border=\"1\" class=\"dataframe\">\n",
       "  <thead>\n",
       "    <tr style=\"text-align: right;\">\n",
       "      <th></th>\n",
       "      <th>membertenure</th>\n",
       "      <th>median_days_between_member_trips</th>\n",
       "      <th>revenue_per_member_month</th>\n",
       "      <th>frequency_per_member_month</th>\n",
       "      <th>discounts_per_member_month</th>\n",
       "    </tr>\n",
       "  </thead>\n",
       "  <tbody>\n",
       "    <tr>\n",
       "      <th>count</th>\n",
       "      <td>2.291550e+05</td>\n",
       "      <td>2.291550e+05</td>\n",
       "      <td>2.291550e+05</td>\n",
       "      <td>2.291550e+05</td>\n",
       "      <td>2.291550e+05</td>\n",
       "    </tr>\n",
       "    <tr>\n",
       "      <th>mean</th>\n",
       "      <td>7.649020e-16</td>\n",
       "      <td>-5.796725e-17</td>\n",
       "      <td>1.198400e-15</td>\n",
       "      <td>-1.189306e-16</td>\n",
       "      <td>-1.328019e-15</td>\n",
       "    </tr>\n",
       "    <tr>\n",
       "      <th>std</th>\n",
       "      <td>1.000002e+00</td>\n",
       "      <td>1.000002e+00</td>\n",
       "      <td>1.000002e+00</td>\n",
       "      <td>1.000002e+00</td>\n",
       "      <td>1.000002e+00</td>\n",
       "    </tr>\n",
       "    <tr>\n",
       "      <th>min</th>\n",
       "      <td>-7.564254e-01</td>\n",
       "      <td>-4.603355e-01</td>\n",
       "      <td>-5.941906e+00</td>\n",
       "      <td>-8.220668e-01</td>\n",
       "      <td>-1.376205e+01</td>\n",
       "    </tr>\n",
       "    <tr>\n",
       "      <th>25%</th>\n",
       "      <td>-6.804249e-01</td>\n",
       "      <td>-4.470934e-01</td>\n",
       "      <td>-6.642894e-01</td>\n",
       "      <td>-4.852780e-01</td>\n",
       "      <td>1.257745e-01</td>\n",
       "    </tr>\n",
       "    <tr>\n",
       "      <th>50%</th>\n",
       "      <td>-3.764228e-01</td>\n",
       "      <td>-4.364997e-01</td>\n",
       "      <td>9.852686e-02</td>\n",
       "      <td>-2.420116e-01</td>\n",
       "      <td>3.716578e-01</td>\n",
       "    </tr>\n",
       "    <tr>\n",
       "      <th>75%</th>\n",
       "      <td>2.315815e-01</td>\n",
       "      <td>-4.073671e-01</td>\n",
       "      <td>6.044564e-01</td>\n",
       "      <td>1.958679e-01</td>\n",
       "      <td>3.716578e-01</td>\n",
       "    </tr>\n",
       "    <tr>\n",
       "      <th>max</th>\n",
       "      <td>2.409575e+01</td>\n",
       "      <td>2.320505e+00</td>\n",
       "      <td>4.559166e+01</td>\n",
       "      <td>7.171619e+01</td>\n",
       "      <td>3.716578e-01</td>\n",
       "    </tr>\n",
       "  </tbody>\n",
       "</table>\n",
       "</div>"
      ],
      "text/plain": [
       "       membertenure  median_days_between_member_trips  \\\n",
       "count  2.291550e+05                      2.291550e+05   \n",
       "mean   7.649020e-16                     -5.796725e-17   \n",
       "std    1.000002e+00                      1.000002e+00   \n",
       "min   -7.564254e-01                     -4.603355e-01   \n",
       "25%   -6.804249e-01                     -4.470934e-01   \n",
       "50%   -3.764228e-01                     -4.364997e-01   \n",
       "75%    2.315815e-01                     -4.073671e-01   \n",
       "max    2.409575e+01                      2.320505e+00   \n",
       "\n",
       "       revenue_per_member_month  frequency_per_member_month  \\\n",
       "count              2.291550e+05                2.291550e+05   \n",
       "mean               1.198400e-15               -1.189306e-16   \n",
       "std                1.000002e+00                1.000002e+00   \n",
       "min               -5.941906e+00               -8.220668e-01   \n",
       "25%               -6.642894e-01               -4.852780e-01   \n",
       "50%                9.852686e-02               -2.420116e-01   \n",
       "75%                6.044564e-01                1.958679e-01   \n",
       "max                4.559166e+01                7.171619e+01   \n",
       "\n",
       "       discounts_per_member_month  \n",
       "count                2.291550e+05  \n",
       "mean                -1.328019e-15  \n",
       "std                  1.000002e+00  \n",
       "min                 -1.376205e+01  \n",
       "25%                  1.257745e-01  \n",
       "50%                  3.716578e-01  \n",
       "75%                  3.716578e-01  \n",
       "max                  3.716578e-01  "
      ]
     },
     "execution_count": 18,
     "metadata": {},
     "output_type": "execute_result"
    }
   ],
   "source": [
    "clusterdata.describe()"
   ]
  },
  {
   "cell_type": "code",
   "execution_count": 19,
   "metadata": {},
   "outputs": [
    {
     "data": {
      "text/plain": [
       "(229155, 5)"
      ]
     },
     "execution_count": 19,
     "metadata": {},
     "output_type": "execute_result"
    }
   ],
   "source": [
    "clusterdata.shape"
   ]
  },
  {
   "cell_type": "code",
   "execution_count": 20,
   "metadata": {},
   "outputs": [],
   "source": [
    "y = df1[['memberstatus', 'repeatmember']]"
   ]
  },
  {
   "cell_type": "code",
   "execution_count": 21,
   "metadata": {},
   "outputs": [],
   "source": [
    "yd = pd.get_dummies(y, drop_first=True)"
   ]
  },
  {
   "cell_type": "code",
   "execution_count": 22,
   "metadata": {},
   "outputs": [
    {
     "name": "stdout",
     "output_type": "stream",
     "text": [
      "(229155, 2)\n"
     ]
    },
    {
     "data": {
      "text/html": [
       "<div>\n",
       "<style scoped>\n",
       "    .dataframe tbody tr th:only-of-type {\n",
       "        vertical-align: middle;\n",
       "    }\n",
       "\n",
       "    .dataframe tbody tr th {\n",
       "        vertical-align: top;\n",
       "    }\n",
       "\n",
       "    .dataframe thead th {\n",
       "        text-align: right;\n",
       "    }\n",
       "</style>\n",
       "<table border=\"1\" class=\"dataframe\">\n",
       "  <thead>\n",
       "    <tr style=\"text-align: right;\">\n",
       "      <th></th>\n",
       "      <th>memberstatus_Former Member</th>\n",
       "      <th>repeatmember_True</th>\n",
       "    </tr>\n",
       "  </thead>\n",
       "  <tbody>\n",
       "    <tr>\n",
       "      <th>0</th>\n",
       "      <td>1</td>\n",
       "      <td>1</td>\n",
       "    </tr>\n",
       "    <tr>\n",
       "      <th>1</th>\n",
       "      <td>1</td>\n",
       "      <td>1</td>\n",
       "    </tr>\n",
       "    <tr>\n",
       "      <th>2</th>\n",
       "      <td>1</td>\n",
       "      <td>1</td>\n",
       "    </tr>\n",
       "    <tr>\n",
       "      <th>3</th>\n",
       "      <td>1</td>\n",
       "      <td>0</td>\n",
       "    </tr>\n",
       "    <tr>\n",
       "      <th>4</th>\n",
       "      <td>1</td>\n",
       "      <td>1</td>\n",
       "    </tr>\n",
       "  </tbody>\n",
       "</table>\n",
       "</div>"
      ],
      "text/plain": [
       "   memberstatus_Former Member  repeatmember_True\n",
       "0                           1                  1\n",
       "1                           1                  1\n",
       "2                           1                  1\n",
       "3                           1                  0\n",
       "4                           1                  1"
      ]
     },
     "execution_count": 22,
     "metadata": {},
     "output_type": "execute_result"
    }
   ],
   "source": [
    "print(yd.shape)\n",
    "yd.head()"
   ]
  },
  {
   "cell_type": "code",
   "execution_count": 23,
   "metadata": {},
   "outputs": [],
   "source": [
    "# Combine scaled and dummied variables for a new df\n",
    "df2 = pd.concat([clusterdata,yd], axis=1, join='inner')"
   ]
  },
  {
   "cell_type": "code",
   "execution_count": null,
   "metadata": {},
   "outputs": [],
   "source": [
    "# df2 = clusterdata"
   ]
  },
  {
   "cell_type": "code",
   "execution_count": 24,
   "metadata": {},
   "outputs": [
    {
     "name": "stdout",
     "output_type": "stream",
     "text": [
      "(229155, 7)\n"
     ]
    },
    {
     "data": {
      "text/html": [
       "<div>\n",
       "<style scoped>\n",
       "    .dataframe tbody tr th:only-of-type {\n",
       "        vertical-align: middle;\n",
       "    }\n",
       "\n",
       "    .dataframe tbody tr th {\n",
       "        vertical-align: top;\n",
       "    }\n",
       "\n",
       "    .dataframe thead th {\n",
       "        text-align: right;\n",
       "    }\n",
       "</style>\n",
       "<table border=\"1\" class=\"dataframe\">\n",
       "  <thead>\n",
       "    <tr style=\"text-align: right;\">\n",
       "      <th></th>\n",
       "      <th>membertenure</th>\n",
       "      <th>median_days_between_member_trips</th>\n",
       "      <th>revenue_per_member_month</th>\n",
       "      <th>frequency_per_member_month</th>\n",
       "      <th>discounts_per_member_month</th>\n",
       "      <th>memberstatus_Former Member</th>\n",
       "      <th>repeatmember_True</th>\n",
       "    </tr>\n",
       "  </thead>\n",
       "  <tbody>\n",
       "    <tr>\n",
       "      <th>0</th>\n",
       "      <td>-0.224422</td>\n",
       "      <td>-0.391477</td>\n",
       "      <td>0.466208</td>\n",
       "      <td>-0.740708</td>\n",
       "      <td>0.040340</td>\n",
       "      <td>1</td>\n",
       "      <td>1</td>\n",
       "    </tr>\n",
       "    <tr>\n",
       "      <th>1</th>\n",
       "      <td>1.295589</td>\n",
       "      <td>-0.455039</td>\n",
       "      <td>0.179744</td>\n",
       "      <td>2.348775</td>\n",
       "      <td>0.290519</td>\n",
       "      <td>1</td>\n",
       "      <td>1</td>\n",
       "    </tr>\n",
       "    <tr>\n",
       "      <th>2</th>\n",
       "      <td>0.231581</td>\n",
       "      <td>-0.441797</td>\n",
       "      <td>0.546188</td>\n",
       "      <td>0.317501</td>\n",
       "      <td>0.371658</td>\n",
       "      <td>1</td>\n",
       "      <td>1</td>\n",
       "    </tr>\n",
       "    <tr>\n",
       "      <th>3</th>\n",
       "      <td>-0.452423</td>\n",
       "      <td>-0.449742</td>\n",
       "      <td>0.477647</td>\n",
       "      <td>0.877014</td>\n",
       "      <td>0.371658</td>\n",
       "      <td>1</td>\n",
       "      <td>0</td>\n",
       "    </tr>\n",
       "    <tr>\n",
       "      <th>4</th>\n",
       "      <td>0.535584</td>\n",
       "      <td>-0.439148</td>\n",
       "      <td>-1.282575</td>\n",
       "      <td>-0.523119</td>\n",
       "      <td>0.308550</td>\n",
       "      <td>1</td>\n",
       "      <td>1</td>\n",
       "    </tr>\n",
       "  </tbody>\n",
       "</table>\n",
       "</div>"
      ],
      "text/plain": [
       "   membertenure  median_days_between_member_trips  revenue_per_member_month  \\\n",
       "0     -0.224422                         -0.391477                  0.466208   \n",
       "1      1.295589                         -0.455039                  0.179744   \n",
       "2      0.231581                         -0.441797                  0.546188   \n",
       "3     -0.452423                         -0.449742                  0.477647   \n",
       "4      0.535584                         -0.439148                 -1.282575   \n",
       "\n",
       "   frequency_per_member_month  discounts_per_member_month  \\\n",
       "0                   -0.740708                    0.040340   \n",
       "1                    2.348775                    0.290519   \n",
       "2                    0.317501                    0.371658   \n",
       "3                    0.877014                    0.371658   \n",
       "4                   -0.523119                    0.308550   \n",
       "\n",
       "   memberstatus_Former Member  repeatmember_True  \n",
       "0                           1                  1  \n",
       "1                           1                  1  \n",
       "2                           1                  1  \n",
       "3                           1                  0  \n",
       "4                           1                  1  "
      ]
     },
     "execution_count": 24,
     "metadata": {},
     "output_type": "execute_result"
    }
   ],
   "source": [
    "print(df2.shape)\n",
    "df2.head()"
   ]
  },
  {
   "cell_type": "code",
   "execution_count": null,
   "metadata": {},
   "outputs": [],
   "source": []
  },
  {
   "cell_type": "markdown",
   "metadata": {},
   "source": [
    "### Elbow Method"
   ]
  },
  {
   "cell_type": "code",
   "execution_count": 25,
   "metadata": {},
   "outputs": [],
   "source": [
    "from scipy.spatial.distance import cdist\n",
    "clusters=range(1,11)\n",
    "meandist=[]\n",
    "\n",
    "for k in clusters:\n",
    "    model=KMeans(n_clusters=k)\n",
    "    model.fit(df2)\n",
    "    clusassign=model.predict(df2)\n",
    "    meandist.append(sum(np.min(cdist(df2, model.cluster_centers_, 'euclidean'), axis=1)) \n",
    "    / df2.shape[0])"
   ]
  },
  {
   "cell_type": "code",
   "execution_count": 26,
   "metadata": {},
   "outputs": [
    {
     "data": {
      "text/plain": [
       "array([[ 1.1440056 ,  4.24255197,  1.54048648, ..., 18.75707343,\n",
       "         3.13439643,  2.30904661],\n",
       "       [ 2.96817039,  3.83389756,  3.18982305, ..., 15.87095745,\n",
       "         1.76554459,  3.65416064],\n",
       "       [ 1.03971354,  3.87151694,  1.63131173, ..., 17.72702194,\n",
       "         2.19701007,  2.53509074],\n",
       "       ...,\n",
       "       [ 3.61809526,  5.44975299,  3.03104125, ..., 19.10173807,\n",
       "         4.49100798,  4.00974731],\n",
       "       [ 1.14085624,  4.62231862,  1.13456729, ..., 18.60211869,\n",
       "         2.98934568,  2.48606087],\n",
       "       [ 4.55241128,  0.68533123,  4.47646877, ..., 19.3588591 ,\n",
       "         5.40567291,  5.39461866]])"
      ]
     },
     "execution_count": 26,
     "metadata": {},
     "output_type": "execute_result"
    }
   ],
   "source": [
    "cdist(df2, model.cluster_centers_, 'euclidean')"
   ]
  },
  {
   "cell_type": "code",
   "execution_count": 27,
   "metadata": {},
   "outputs": [
    {
     "data": {
      "text/plain": [
       "229155"
      ]
     },
     "execution_count": 27,
     "metadata": {},
     "output_type": "execute_result"
    }
   ],
   "source": [
    "df2.shape[0]"
   ]
  },
  {
   "cell_type": "code",
   "execution_count": 28,
   "metadata": {},
   "outputs": [
    {
     "data": {
      "text/plain": [
       "Text(0.5, 1.0, 'Selecting k with the Elbow Method')"
      ]
     },
     "execution_count": 28,
     "metadata": {},
     "output_type": "execute_result"
    },
    {
     "data": {
      "image/png": "[encoded data removed]",
      "text/plain": [
       "<Figure size 432x288 with 1 Axes>"
      ]
     },
     "metadata": {
      "needs_background": "light"
     },
     "output_type": "display_data"
    }
   ],
   "source": [
    "#plt.figure(figsize=(15,5))\n",
    "plt.plot(clusters, meandist)\n",
    "plt.xlabel('Number of clusters')\n",
    "plt.ylabel('Average distance')\n",
    "plt.title('Selecting k with the Elbow Method')"
   ]
  },
  {
   "cell_type": "markdown",
   "metadata": {},
   "source": [
    "### Silhouette Score"
   ]
  },
  {
   "cell_type": "code",
   "execution_count": null,
   "metadata": {},
   "outputs": [],
   "source": [
    "# for n_cluster in [2,3,4,5,6,7,8,9,10]:\n",
    "#     kmeans = KMeans(n_clusters=n_cluster).fit(df2)\n",
    "    \n",
    "#     silhouette_avg = silhouette_score(\n",
    "#         df2, kmeans.labels_)\n",
    "    \n",
    "#     print('Silhouette Score for %i Clusters: %0.4f' % (n_cluster, silhouette_avg))"
   ]
  },
  {
   "cell_type": "code",
   "execution_count": null,
   "metadata": {},
   "outputs": [],
   "source": []
  },
  {
   "cell_type": "code",
   "execution_count": null,
   "metadata": {},
   "outputs": [],
   "source": [
    "# # A list holds the silhouette coefficients for each k\n",
    "# silhouette_coefficients = []\n",
    "\n",
    "# # Notice you start at 2 clusters for silhouette coefficient\n",
    "# for k in range(2, 11):\n",
    "#      kmeans = KMeans(n_clusters=k)\n",
    "#      kmeans.fit(df2)\n",
    "#      score = silhouette_score(df2, kmeans.labels_)\n",
    "#      silhouette_coefficients.append(score)"
   ]
  },
  {
   "cell_type": "code",
   "execution_count": null,
   "metadata": {},
   "outputs": [],
   "source": [
    "# plt.style.use(\"fivethirtyeight\")\n",
    "# plt.plot(range(2, 11), silhouette_coefficients)\n",
    "# plt.xticks(range(2, 11))\n",
    "# plt.xlabel(\"Number of Clusters\")\n",
    "# plt.ylabel(\"Silhouette Coefficient\")\n",
    "# plt.show()"
   ]
  },
  {
   "cell_type": "code",
   "execution_count": null,
   "metadata": {},
   "outputs": [],
   "source": []
  },
  {
   "cell_type": "code",
   "execution_count": null,
   "metadata": {},
   "outputs": [],
   "source": []
  },
  {
   "cell_type": "code",
   "execution_count": 29,
   "metadata": {},
   "outputs": [],
   "source": [
    "# Define the model\n",
    "kmeans_model_a = KMeans(n_clusters = 6, init='k-means++', random_state = 42)\n",
    "\n",
    "# Fit into our dataset\n",
    "kmeans_predict_a = kmeans_model_a.fit_predict(df2)"
   ]
  },
  {
   "cell_type": "code",
   "execution_count": null,
   "metadata": {},
   "outputs": [],
   "source": [
    "# # Define the model\n",
    "# kmeans_model_b = KMeans(n_clusters = 7, init='k-means++', random_state = 42)\n",
    "\n",
    "# # Fit into our dataset\n",
    "# kmeans_predict_b = kmeans_model_b.fit_predict(df2)"
   ]
  },
  {
   "cell_type": "code",
   "execution_count": 30,
   "metadata": {},
   "outputs": [
    {
     "name": "stdout",
     "output_type": "stream",
     "text": [
      "524818.0638565198\n",
      "[[ 2.19800342 -0.41152585 -0.41262317 -0.26322956  0.3033323   0.58144626\n",
      "   0.61575332]\n",
      " [-0.20425578 -0.42878903  0.59284979  0.0841325   0.11567629  0.65776373\n",
      "   0.23537127]\n",
      " [-0.5639668   2.31904609 -0.41702127 -0.61750271 -0.00667199  0.62675497\n",
      "   0.03275938]\n",
      " [-0.20797857 -0.42674809 -0.67594546 -0.12518521  0.21986867  0.72688805\n",
      "   0.28965137]\n",
      " [-0.32999319 -0.44168218  1.22241129  3.54580303 -0.03537665  0.85043904\n",
      "   0.39254354]\n",
      " [-0.73043799  0.22729771 -0.93679139  0.24606947 -4.6220724   0.99792316\n",
      "   0.07995846]]\n",
      "28\n"
     ]
    }
   ],
   "source": [
    "# The lowest SSE value\n",
    "print(kmeans_model_a.inertia_)\n",
    "# Final locations of the centroid\n",
    "print(kmeans_model_a.cluster_centers_)\n",
    "# The number of iterations required to converge\n",
    "print(kmeans_model_a.n_iter_)"
   ]
  },
  {
   "cell_type": "code",
   "execution_count": null,
   "metadata": {},
   "outputs": [],
   "source": [
    "# # The lowest SSE value\n",
    "# print(kmeans_model_b.inertia_)\n",
    "# # Final locations of the centroid\n",
    "# print(kmeans_model_b.cluster_centers_)\n",
    "# # The number of iterations required to converge\n",
    "# print(kmeans_model_b.n_iter_)"
   ]
  },
  {
   "cell_type": "code",
   "execution_count": null,
   "metadata": {},
   "outputs": [],
   "source": []
  },
  {
   "cell_type": "code",
   "execution_count": null,
   "metadata": {},
   "outputs": [],
   "source": []
  },
  {
   "cell_type": "code",
   "execution_count": 31,
   "metadata": {},
   "outputs": [],
   "source": [
    "######## change if # of clusters changed ########\n",
    "#################################################\n",
    "df1['Cluster'] = kmeans_predict_a"
   ]
  },
  {
   "cell_type": "code",
   "execution_count": null,
   "metadata": {},
   "outputs": [],
   "source": []
  },
  {
   "cell_type": "code",
   "execution_count": 32,
   "metadata": {},
   "outputs": [
    {
     "data": {
      "text/html": [
       "<div>\n",
       "<style scoped>\n",
       "    .dataframe tbody tr th:only-of-type {\n",
       "        vertical-align: middle;\n",
       "    }\n",
       "\n",
       "    .dataframe tbody tr th {\n",
       "        vertical-align: top;\n",
       "    }\n",
       "\n",
       "    .dataframe thead th {\n",
       "        text-align: right;\n",
       "    }\n",
       "</style>\n",
       "<table border=\"1\" class=\"dataframe\">\n",
       "  <thead>\n",
       "    <tr style=\"text-align: right;\">\n",
       "      <th></th>\n",
       "      <th>memberstatus</th>\n",
       "      <th>membertenure</th>\n",
       "      <th>repeatmember</th>\n",
       "      <th>median_days_between_member_trips</th>\n",
       "      <th>revenue_per_member_month</th>\n",
       "      <th>frequency_per_member_month</th>\n",
       "      <th>discounts_per_member_month</th>\n",
       "      <th>Cluster</th>\n",
       "    </tr>\n",
       "  </thead>\n",
       "  <tbody>\n",
       "    <tr>\n",
       "      <th>0</th>\n",
       "      <td>Former Member</td>\n",
       "      <td>8.0</td>\n",
       "      <td>True</td>\n",
       "      <td>26.0</td>\n",
       "      <td>30.625000</td>\n",
       "      <td>0.250000</td>\n",
       "      <td>-2.625000</td>\n",
       "      <td>1</td>\n",
       "    </tr>\n",
       "    <tr>\n",
       "      <th>1</th>\n",
       "      <td>Former Member</td>\n",
       "      <td>28.0</td>\n",
       "      <td>True</td>\n",
       "      <td>2.0</td>\n",
       "      <td>26.242500</td>\n",
       "      <td>9.321429</td>\n",
       "      <td>-0.642857</td>\n",
       "      <td>4</td>\n",
       "    </tr>\n",
       "    <tr>\n",
       "      <th>2</th>\n",
       "      <td>Former Member</td>\n",
       "      <td>14.0</td>\n",
       "      <td>True</td>\n",
       "      <td>7.0</td>\n",
       "      <td>31.848571</td>\n",
       "      <td>3.357143</td>\n",
       "      <td>0.000000</td>\n",
       "      <td>1</td>\n",
       "    </tr>\n",
       "    <tr>\n",
       "      <th>3</th>\n",
       "      <td>Former Member</td>\n",
       "      <td>5.0</td>\n",
       "      <td>False</td>\n",
       "      <td>4.0</td>\n",
       "      <td>30.800000</td>\n",
       "      <td>5.000000</td>\n",
       "      <td>0.000000</td>\n",
       "      <td>1</td>\n",
       "    </tr>\n",
       "    <tr>\n",
       "      <th>4</th>\n",
       "      <td>Former Member</td>\n",
       "      <td>18.0</td>\n",
       "      <td>True</td>\n",
       "      <td>8.0</td>\n",
       "      <td>3.871111</td>\n",
       "      <td>0.888889</td>\n",
       "      <td>-0.500000</td>\n",
       "      <td>3</td>\n",
       "    </tr>\n",
       "    <tr>\n",
       "      <th>...</th>\n",
       "      <td>...</td>\n",
       "      <td>...</td>\n",
       "      <td>...</td>\n",
       "      <td>...</td>\n",
       "      <td>...</td>\n",
       "      <td>...</td>\n",
       "      <td>...</td>\n",
       "      <td>...</td>\n",
       "    </tr>\n",
       "    <tr>\n",
       "      <th>229150</th>\n",
       "      <td>Active Member</td>\n",
       "      <td>1.0</td>\n",
       "      <td>False</td>\n",
       "      <td>1050.0</td>\n",
       "      <td>0.010000</td>\n",
       "      <td>1.000000</td>\n",
       "      <td>0.000000</td>\n",
       "      <td>2</td>\n",
       "    </tr>\n",
       "    <tr>\n",
       "      <th>229151</th>\n",
       "      <td>Active Member</td>\n",
       "      <td>1.0</td>\n",
       "      <td>False</td>\n",
       "      <td>1050.0</td>\n",
       "      <td>0.010000</td>\n",
       "      <td>1.000000</td>\n",
       "      <td>0.000000</td>\n",
       "      <td>2</td>\n",
       "    </tr>\n",
       "    <tr>\n",
       "      <th>229152</th>\n",
       "      <td>Active Member</td>\n",
       "      <td>1.0</td>\n",
       "      <td>False</td>\n",
       "      <td>1050.0</td>\n",
       "      <td>0.010000</td>\n",
       "      <td>1.000000</td>\n",
       "      <td>0.000000</td>\n",
       "      <td>2</td>\n",
       "    </tr>\n",
       "    <tr>\n",
       "      <th>229153</th>\n",
       "      <td>Active Member</td>\n",
       "      <td>2.0</td>\n",
       "      <td>False</td>\n",
       "      <td>1.0</td>\n",
       "      <td>22.995000</td>\n",
       "      <td>1.000000</td>\n",
       "      <td>0.000000</td>\n",
       "      <td>3</td>\n",
       "    </tr>\n",
       "    <tr>\n",
       "      <th>229154</th>\n",
       "      <td>Active Member</td>\n",
       "      <td>64.0</td>\n",
       "      <td>True</td>\n",
       "      <td>5.0</td>\n",
       "      <td>15.098750</td>\n",
       "      <td>0.703125</td>\n",
       "      <td>0.000000</td>\n",
       "      <td>0</td>\n",
       "    </tr>\n",
       "  </tbody>\n",
       "</table>\n",
       "<p>229155 rows × 8 columns</p>\n",
       "</div>"
      ],
      "text/plain": [
       "         memberstatus  membertenure repeatmember  \\\n",
       "0       Former Member           8.0         True   \n",
       "1       Former Member          28.0         True   \n",
       "2       Former Member          14.0         True   \n",
       "3       Former Member           5.0        False   \n",
       "4       Former Member          18.0         True   \n",
       "...               ...           ...          ...   \n",
       "229150  Active Member           1.0        False   \n",
       "229151  Active Member           1.0        False   \n",
       "229152  Active Member           1.0        False   \n",
       "229153  Active Member           2.0        False   \n",
       "229154  Active Member          64.0         True   \n",
       "\n",
       "        median_days_between_member_trips  revenue_per_member_month  \\\n",
       "0                                   26.0                 30.625000   \n",
       "1                                    2.0                 26.242500   \n",
       "2                                    7.0                 31.848571   \n",
       "3                                    4.0                 30.800000   \n",
       "4                                    8.0                  3.871111   \n",
       "...                                  ...                       ...   \n",
       "229150                            1050.0                  0.010000   \n",
       "229151                            1050.0                  0.010000   \n",
       "229152                            1050.0                  0.010000   \n",
       "229153                               1.0                 22.995000   \n",
       "229154                               5.0                 15.098750   \n",
       "\n",
       "        frequency_per_member_month  discounts_per_member_month  Cluster  \n",
       "0                         0.250000                   -2.625000        1  \n",
       "1                         9.321429                   -0.642857        4  \n",
       "2                         3.357143                    0.000000        1  \n",
       "3                         5.000000                    0.000000        1  \n",
       "4                         0.888889                   -0.500000        3  \n",
       "...                            ...                         ...      ...  \n",
       "229150                    1.000000                    0.000000        2  \n",
       "229151                    1.000000                    0.000000        2  \n",
       "229152                    1.000000                    0.000000        2  \n",
       "229153                    1.000000                    0.000000        3  \n",
       "229154                    0.703125                    0.000000        0  \n",
       "\n",
       "[229155 rows x 8 columns]"
      ]
     },
     "execution_count": 32,
     "metadata": {},
     "output_type": "execute_result"
    }
   ],
   "source": [
    "df1"
   ]
  },
  {
   "cell_type": "markdown",
   "metadata": {},
   "source": [
    "### Prepare Exporting Data"
   ]
  },
  {
   "cell_type": "code",
   "execution_count": 33,
   "metadata": {},
   "outputs": [
    {
     "data": {
      "text/plain": [
       "(229155, 62)"
      ]
     },
     "execution_count": 33,
     "metadata": {},
     "output_type": "execute_result"
    }
   ],
   "source": [
    "data.shape"
   ]
  },
  {
   "cell_type": "code",
   "execution_count": 34,
   "metadata": {},
   "outputs": [],
   "source": [
    "datana = data.dropna(axis=0, how='all', subset=[\"revenue_per_member_month\",\"revenue_per_member_month\"])"
   ]
  },
  {
   "cell_type": "code",
   "execution_count": 35,
   "metadata": {},
   "outputs": [],
   "source": [
    "# swap the imputated columns\n",
    "datana[[\"median_days_between_member_trips\", \"discounts_per_member_month\"]] = df1[[\"median_days_between_member_trips\", \"discounts_per_member_month\"]]"
   ]
  },
  {
   "cell_type": "code",
   "execution_count": 36,
   "metadata": {},
   "outputs": [],
   "source": [
    "export = datana.iloc[:,0:61]"
   ]
  },
  {
   "cell_type": "code",
   "execution_count": 37,
   "metadata": {},
   "outputs": [
    {
     "name": "stdout",
     "output_type": "stream",
     "text": [
      "(229155, 61)\n"
     ]
    },
    {
     "data": {
      "text/html": [
       "<div>\n",
       "<style scoped>\n",
       "    .dataframe tbody tr th:only-of-type {\n",
       "        vertical-align: middle;\n",
       "    }\n",
       "\n",
       "    .dataframe tbody tr th {\n",
       "        vertical-align: top;\n",
       "    }\n",
       "\n",
       "    .dataframe thead th {\n",
       "        text-align: right;\n",
       "    }\n",
       "</style>\n",
       "<table border=\"1\" class=\"dataframe\">\n",
       "  <thead>\n",
       "    <tr style=\"text-align: right;\">\n",
       "      <th></th>\n",
       "      <th>customerid</th>\n",
       "      <th>memberstatus</th>\n",
       "      <th>memberoriginalstartdate</th>\n",
       "      <th>memberstartdate</th>\n",
       "      <th>firsttransaction</th>\n",
       "      <th>MemberExpirationDate</th>\n",
       "      <th>month</th>\n",
       "      <th>lastrechargedate</th>\n",
       "      <th>calcstart</th>\n",
       "      <th>calclastrecharge</th>\n",
       "      <th>...</th>\n",
       "      <th>maritalstatus</th>\n",
       "      <th>gender</th>\n",
       "      <th>education</th>\n",
       "      <th>numberchildren</th>\n",
       "      <th>phonecollected</th>\n",
       "      <th>emailcollected</th>\n",
       "      <th>addresscollected</th>\n",
       "      <th>revenue_per_member_month</th>\n",
       "      <th>frequency_per_member_month</th>\n",
       "      <th>discounts_per_member_month</th>\n",
       "    </tr>\n",
       "  </thead>\n",
       "  <tbody>\n",
       "    <tr>\n",
       "      <th>0</th>\n",
       "      <td>1000000203689</td>\n",
       "      <td>Former Member</td>\n",
       "      <td>2021-05-21</td>\n",
       "      <td>2021-05-21</td>\n",
       "      <td>2021-05-26</td>\n",
       "      <td>None</td>\n",
       "      <td>5</td>\n",
       "      <td>2021-06-26</td>\n",
       "      <td>2021-05-21</td>\n",
       "      <td>2021-06-26</td>\n",
       "      <td>...</td>\n",
       "      <td>Single</td>\n",
       "      <td>Female</td>\n",
       "      <td>Completed High School</td>\n",
       "      <td>Children</td>\n",
       "      <td>True</td>\n",
       "      <td>True</td>\n",
       "      <td>True</td>\n",
       "      <td>30.625000</td>\n",
       "      <td>0.250000</td>\n",
       "      <td>-2.625000</td>\n",
       "    </tr>\n",
       "    <tr>\n",
       "      <th>1</th>\n",
       "      <td>1000001147756</td>\n",
       "      <td>Former Member</td>\n",
       "      <td>2021-02-19</td>\n",
       "      <td>2021-02-19</td>\n",
       "      <td>2021-02-19</td>\n",
       "      <td>None</td>\n",
       "      <td>2</td>\n",
       "      <td>2021-04-19</td>\n",
       "      <td>2021-02-19</td>\n",
       "      <td>2021-04-19</td>\n",
       "      <td>...</td>\n",
       "      <td>Single</td>\n",
       "      <td>Male</td>\n",
       "      <td>Completed High School</td>\n",
       "      <td>Children</td>\n",
       "      <td>True</td>\n",
       "      <td>True</td>\n",
       "      <td>True</td>\n",
       "      <td>26.242500</td>\n",
       "      <td>9.321429</td>\n",
       "      <td>-0.642857</td>\n",
       "    </tr>\n",
       "    <tr>\n",
       "      <th>2</th>\n",
       "      <td>1000002762037</td>\n",
       "      <td>Former Member</td>\n",
       "      <td>2021-07-20</td>\n",
       "      <td>2021-07-20</td>\n",
       "      <td>2021-07-20</td>\n",
       "      <td>2021-12-20</td>\n",
       "      <td>7</td>\n",
       "      <td>2021-11-20</td>\n",
       "      <td>2021-07-20</td>\n",
       "      <td>2021-11-20</td>\n",
       "      <td>...</td>\n",
       "      <td>Married</td>\n",
       "      <td>Male</td>\n",
       "      <td>Completed Graduate School</td>\n",
       "      <td>Children</td>\n",
       "      <td>True</td>\n",
       "      <td>True</td>\n",
       "      <td>True</td>\n",
       "      <td>31.848571</td>\n",
       "      <td>3.357143</td>\n",
       "      <td>0.000000</td>\n",
       "    </tr>\n",
       "    <tr>\n",
       "      <th>3</th>\n",
       "      <td>1000005528183</td>\n",
       "      <td>Former Member</td>\n",
       "      <td>2020-09-05</td>\n",
       "      <td>2020-09-05</td>\n",
       "      <td>2020-09-05</td>\n",
       "      <td>2021-02-05</td>\n",
       "      <td>9</td>\n",
       "      <td>2021-01-05</td>\n",
       "      <td>2020-09-05</td>\n",
       "      <td>2021-01-05</td>\n",
       "      <td>...</td>\n",
       "      <td>Single</td>\n",
       "      <td>Male</td>\n",
       "      <td>None</td>\n",
       "      <td>Children</td>\n",
       "      <td>False</td>\n",
       "      <td>False</td>\n",
       "      <td>True</td>\n",
       "      <td>30.800000</td>\n",
       "      <td>5.000000</td>\n",
       "      <td>0.000000</td>\n",
       "    </tr>\n",
       "    <tr>\n",
       "      <th>4</th>\n",
       "      <td>1000006380346</td>\n",
       "      <td>Former Member</td>\n",
       "      <td>2021-01-23</td>\n",
       "      <td>2021-01-23</td>\n",
       "      <td>2021-01-23</td>\n",
       "      <td>None</td>\n",
       "      <td>1</td>\n",
       "      <td>2021-12-15</td>\n",
       "      <td>2021-01-23</td>\n",
       "      <td>2021-12-15</td>\n",
       "      <td>...</td>\n",
       "      <td>Single</td>\n",
       "      <td>Male</td>\n",
       "      <td>Completed Graduate School</td>\n",
       "      <td>Children</td>\n",
       "      <td>True</td>\n",
       "      <td>True</td>\n",
       "      <td>True</td>\n",
       "      <td>3.871111</td>\n",
       "      <td>0.888889</td>\n",
       "      <td>-0.500000</td>\n",
       "    </tr>\n",
       "  </tbody>\n",
       "</table>\n",
       "<p>5 rows × 61 columns</p>\n",
       "</div>"
      ],
      "text/plain": [
       "      customerid   memberstatus memberoriginalstartdate memberstartdate  \\\n",
       "0  1000000203689  Former Member              2021-05-21      2021-05-21   \n",
       "1  1000001147756  Former Member              2021-02-19      2021-02-19   \n",
       "2  1000002762037  Former Member              2021-07-20      2021-07-20   \n",
       "3  1000005528183  Former Member              2020-09-05      2020-09-05   \n",
       "4  1000006380346  Former Member              2021-01-23      2021-01-23   \n",
       "\n",
       "  firsttransaction MemberExpirationDate  month lastrechargedate   calcstart  \\\n",
       "0       2021-05-26                 None      5       2021-06-26  2021-05-21   \n",
       "1       2021-02-19                 None      2       2021-04-19  2021-02-19   \n",
       "2       2021-07-20           2021-12-20      7       2021-11-20  2021-07-20   \n",
       "3       2020-09-05           2021-02-05      9       2021-01-05  2020-09-05   \n",
       "4       2021-01-23                 None      1       2021-12-15  2021-01-23   \n",
       "\n",
       "  calclastrecharge  ... maritalstatus  gender                  education  \\\n",
       "0       2021-06-26  ...        Single  Female      Completed High School   \n",
       "1       2021-04-19  ...        Single    Male      Completed High School   \n",
       "2       2021-11-20  ...       Married    Male  Completed Graduate School   \n",
       "3       2021-01-05  ...        Single    Male                       None   \n",
       "4       2021-12-15  ...        Single    Male  Completed Graduate School   \n",
       "\n",
       "   numberchildren  phonecollected  emailcollected  addresscollected  \\\n",
       "0        Children            True            True              True   \n",
       "1        Children            True            True              True   \n",
       "2        Children            True            True              True   \n",
       "3        Children           False           False              True   \n",
       "4        Children            True            True              True   \n",
       "\n",
       "   revenue_per_member_month  frequency_per_member_month  \\\n",
       "0                 30.625000                    0.250000   \n",
       "1                 26.242500                    9.321429   \n",
       "2                 31.848571                    3.357143   \n",
       "3                 30.800000                    5.000000   \n",
       "4                  3.871111                    0.888889   \n",
       "\n",
       "   discounts_per_member_month  \n",
       "0                   -2.625000  \n",
       "1                   -0.642857  \n",
       "2                    0.000000  \n",
       "3                    0.000000  \n",
       "4                   -0.500000  \n",
       "\n",
       "[5 rows x 61 columns]"
      ]
     },
     "execution_count": 37,
     "metadata": {},
     "output_type": "execute_result"
    }
   ],
   "source": [
    "print(export.shape)\n",
    "export.head()"
   ]
  },
  {
   "cell_type": "code",
   "execution_count": 38,
   "metadata": {},
   "outputs": [],
   "source": [
    "######## change if # of clusters changed ########\n",
    "#################################################\n",
    "export['Cluster'] = kmeans_predict_a\n",
    "export['Cluster'] = export['Cluster'].replace(regex = {0 : \"Discount Seeker\", 1 : \"Low Revenue\", 2 : \"High Tenure\", 3 : \"Discount Seekers\", 4 : \"Platinum Members\", 5 : \"High Frequency\"})\n",
    "export['RunDate'] = date.today()"
   ]
  },
  {
   "cell_type": "code",
   "execution_count": 39,
   "metadata": {},
   "outputs": [
    {
     "name": "stdout",
     "output_type": "stream",
     "text": [
      "(229155, 63)\n"
     ]
    },
    {
     "data": {
      "text/html": [
       "<div>\n",
       "<style scoped>\n",
       "    .dataframe tbody tr th:only-of-type {\n",
       "        vertical-align: middle;\n",
       "    }\n",
       "\n",
       "    .dataframe tbody tr th {\n",
       "        vertical-align: top;\n",
       "    }\n",
       "\n",
       "    .dataframe thead th {\n",
       "        text-align: right;\n",
       "    }\n",
       "</style>\n",
       "<table border=\"1\" class=\"dataframe\">\n",
       "  <thead>\n",
       "    <tr style=\"text-align: right;\">\n",
       "      <th></th>\n",
       "      <th>customerid</th>\n",
       "      <th>memberstatus</th>\n",
       "      <th>memberoriginalstartdate</th>\n",
       "      <th>memberstartdate</th>\n",
       "      <th>firsttransaction</th>\n",
       "      <th>MemberExpirationDate</th>\n",
       "      <th>month</th>\n",
       "      <th>lastrechargedate</th>\n",
       "      <th>calcstart</th>\n",
       "      <th>calclastrecharge</th>\n",
       "      <th>...</th>\n",
       "      <th>education</th>\n",
       "      <th>numberchildren</th>\n",
       "      <th>phonecollected</th>\n",
       "      <th>emailcollected</th>\n",
       "      <th>addresscollected</th>\n",
       "      <th>revenue_per_member_month</th>\n",
       "      <th>frequency_per_member_month</th>\n",
       "      <th>discounts_per_member_month</th>\n",
       "      <th>Cluster</th>\n",
       "      <th>RunDate</th>\n",
       "    </tr>\n",
       "  </thead>\n",
       "  <tbody>\n",
       "    <tr>\n",
       "      <th>0</th>\n",
       "      <td>1000000203689</td>\n",
       "      <td>Former Member</td>\n",
       "      <td>2021-05-21</td>\n",
       "      <td>2021-05-21</td>\n",
       "      <td>2021-05-26</td>\n",
       "      <td>None</td>\n",
       "      <td>5</td>\n",
       "      <td>2021-06-26</td>\n",
       "      <td>2021-05-21</td>\n",
       "      <td>2021-06-26</td>\n",
       "      <td>...</td>\n",
       "      <td>Completed High School</td>\n",
       "      <td>Children</td>\n",
       "      <td>True</td>\n",
       "      <td>True</td>\n",
       "      <td>True</td>\n",
       "      <td>30.625000</td>\n",
       "      <td>0.250000</td>\n",
       "      <td>-2.625000</td>\n",
       "      <td>Low Revenue</td>\n",
       "      <td>2021-12-27</td>\n",
       "    </tr>\n",
       "    <tr>\n",
       "      <th>1</th>\n",
       "      <td>1000001147756</td>\n",
       "      <td>Former Member</td>\n",
       "      <td>2021-02-19</td>\n",
       "      <td>2021-02-19</td>\n",
       "      <td>2021-02-19</td>\n",
       "      <td>None</td>\n",
       "      <td>2</td>\n",
       "      <td>2021-04-19</td>\n",
       "      <td>2021-02-19</td>\n",
       "      <td>2021-04-19</td>\n",
       "      <td>...</td>\n",
       "      <td>Completed High School</td>\n",
       "      <td>Children</td>\n",
       "      <td>True</td>\n",
       "      <td>True</td>\n",
       "      <td>True</td>\n",
       "      <td>26.242500</td>\n",
       "      <td>9.321429</td>\n",
       "      <td>-0.642857</td>\n",
       "      <td>Platinum Members</td>\n",
       "      <td>2021-12-27</td>\n",
       "    </tr>\n",
       "    <tr>\n",
       "      <th>2</th>\n",
       "      <td>1000002762037</td>\n",
       "      <td>Former Member</td>\n",
       "      <td>2021-07-20</td>\n",
       "      <td>2021-07-20</td>\n",
       "      <td>2021-07-20</td>\n",
       "      <td>2021-12-20</td>\n",
       "      <td>7</td>\n",
       "      <td>2021-11-20</td>\n",
       "      <td>2021-07-20</td>\n",
       "      <td>2021-11-20</td>\n",
       "      <td>...</td>\n",
       "      <td>Completed Graduate School</td>\n",
       "      <td>Children</td>\n",
       "      <td>True</td>\n",
       "      <td>True</td>\n",
       "      <td>True</td>\n",
       "      <td>31.848571</td>\n",
       "      <td>3.357143</td>\n",
       "      <td>0.000000</td>\n",
       "      <td>Low Revenue</td>\n",
       "      <td>2021-12-27</td>\n",
       "    </tr>\n",
       "    <tr>\n",
       "      <th>3</th>\n",
       "      <td>1000005528183</td>\n",
       "      <td>Former Member</td>\n",
       "      <td>2020-09-05</td>\n",
       "      <td>2020-09-05</td>\n",
       "      <td>2020-09-05</td>\n",
       "      <td>2021-02-05</td>\n",
       "      <td>9</td>\n",
       "      <td>2021-01-05</td>\n",
       "      <td>2020-09-05</td>\n",
       "      <td>2021-01-05</td>\n",
       "      <td>...</td>\n",
       "      <td>None</td>\n",
       "      <td>Children</td>\n",
       "      <td>False</td>\n",
       "      <td>False</td>\n",
       "      <td>True</td>\n",
       "      <td>30.800000</td>\n",
       "      <td>5.000000</td>\n",
       "      <td>0.000000</td>\n",
       "      <td>Low Revenue</td>\n",
       "      <td>2021-12-27</td>\n",
       "    </tr>\n",
       "    <tr>\n",
       "      <th>4</th>\n",
       "      <td>1000006380346</td>\n",
       "      <td>Former Member</td>\n",
       "      <td>2021-01-23</td>\n",
       "      <td>2021-01-23</td>\n",
       "      <td>2021-01-23</td>\n",
       "      <td>None</td>\n",
       "      <td>1</td>\n",
       "      <td>2021-12-15</td>\n",
       "      <td>2021-01-23</td>\n",
       "      <td>2021-12-15</td>\n",
       "      <td>...</td>\n",
       "      <td>Completed Graduate School</td>\n",
       "      <td>Children</td>\n",
       "      <td>True</td>\n",
       "      <td>True</td>\n",
       "      <td>True</td>\n",
       "      <td>3.871111</td>\n",
       "      <td>0.888889</td>\n",
       "      <td>-0.500000</td>\n",
       "      <td>Discount Seekers</td>\n",
       "      <td>2021-12-27</td>\n",
       "    </tr>\n",
       "    <tr>\n",
       "      <th>...</th>\n",
       "      <td>...</td>\n",
       "      <td>...</td>\n",
       "      <td>...</td>\n",
       "      <td>...</td>\n",
       "      <td>...</td>\n",
       "      <td>...</td>\n",
       "      <td>...</td>\n",
       "      <td>...</td>\n",
       "      <td>...</td>\n",
       "      <td>...</td>\n",
       "      <td>...</td>\n",
       "      <td>...</td>\n",
       "      <td>...</td>\n",
       "      <td>...</td>\n",
       "      <td>...</td>\n",
       "      <td>...</td>\n",
       "      <td>...</td>\n",
       "      <td>...</td>\n",
       "      <td>...</td>\n",
       "      <td>...</td>\n",
       "      <td>...</td>\n",
       "    </tr>\n",
       "    <tr>\n",
       "      <th>229150</th>\n",
       "      <td>1000022694745</td>\n",
       "      <td>Active Member</td>\n",
       "      <td>2021-12-09</td>\n",
       "      <td>2021-12-09</td>\n",
       "      <td>2021-12-09</td>\n",
       "      <td>None</td>\n",
       "      <td>12</td>\n",
       "      <td>2021-12-09</td>\n",
       "      <td>2021-12-09</td>\n",
       "      <td>2021-12-09</td>\n",
       "      <td>...</td>\n",
       "      <td>Completed College</td>\n",
       "      <td>Children</td>\n",
       "      <td>True</td>\n",
       "      <td>True</td>\n",
       "      <td>True</td>\n",
       "      <td>0.010000</td>\n",
       "      <td>1.000000</td>\n",
       "      <td>0.000000</td>\n",
       "      <td>High Tenure</td>\n",
       "      <td>2021-12-27</td>\n",
       "    </tr>\n",
       "    <tr>\n",
       "      <th>229151</th>\n",
       "      <td>1000022729336</td>\n",
       "      <td>Active Member</td>\n",
       "      <td>2021-12-11</td>\n",
       "      <td>2021-12-11</td>\n",
       "      <td>2021-12-11</td>\n",
       "      <td>None</td>\n",
       "      <td>12</td>\n",
       "      <td>2021-12-11</td>\n",
       "      <td>2021-12-11</td>\n",
       "      <td>2021-12-11</td>\n",
       "      <td>...</td>\n",
       "      <td>None</td>\n",
       "      <td>Children</td>\n",
       "      <td>True</td>\n",
       "      <td>False</td>\n",
       "      <td>True</td>\n",
       "      <td>0.010000</td>\n",
       "      <td>1.000000</td>\n",
       "      <td>0.000000</td>\n",
       "      <td>High Tenure</td>\n",
       "      <td>2021-12-27</td>\n",
       "    </tr>\n",
       "    <tr>\n",
       "      <th>229152</th>\n",
       "      <td>1000022791141</td>\n",
       "      <td>Active Member</td>\n",
       "      <td>2021-12-16</td>\n",
       "      <td>2021-12-16</td>\n",
       "      <td>2021-12-16</td>\n",
       "      <td>None</td>\n",
       "      <td>12</td>\n",
       "      <td>2021-12-16</td>\n",
       "      <td>2021-12-16</td>\n",
       "      <td>2021-12-16</td>\n",
       "      <td>...</td>\n",
       "      <td>Completed High School</td>\n",
       "      <td>Children</td>\n",
       "      <td>True</td>\n",
       "      <td>True</td>\n",
       "      <td>True</td>\n",
       "      <td>0.010000</td>\n",
       "      <td>1.000000</td>\n",
       "      <td>0.000000</td>\n",
       "      <td>High Tenure</td>\n",
       "      <td>2021-12-27</td>\n",
       "    </tr>\n",
       "    <tr>\n",
       "      <th>229153</th>\n",
       "      <td>1000022797878</td>\n",
       "      <td>Active Member</td>\n",
       "      <td>2021-11-04</td>\n",
       "      <td>2021-11-04</td>\n",
       "      <td>2021-11-04</td>\n",
       "      <td>None</td>\n",
       "      <td>11</td>\n",
       "      <td>2021-12-04</td>\n",
       "      <td>2021-11-04</td>\n",
       "      <td>2021-12-04</td>\n",
       "      <td>...</td>\n",
       "      <td>Completed College</td>\n",
       "      <td>Children</td>\n",
       "      <td>True</td>\n",
       "      <td>False</td>\n",
       "      <td>True</td>\n",
       "      <td>22.995000</td>\n",
       "      <td>1.000000</td>\n",
       "      <td>0.000000</td>\n",
       "      <td>Discount Seekers</td>\n",
       "      <td>2021-12-27</td>\n",
       "    </tr>\n",
       "    <tr>\n",
       "      <th>229154</th>\n",
       "      <td>1000022870380</td>\n",
       "      <td>Active Member</td>\n",
       "      <td>2020-06-17</td>\n",
       "      <td>2020-06-17</td>\n",
       "      <td>2020-06-17</td>\n",
       "      <td>None</td>\n",
       "      <td>6</td>\n",
       "      <td>2021-12-17</td>\n",
       "      <td>2020-06-17</td>\n",
       "      <td>2021-12-17</td>\n",
       "      <td>...</td>\n",
       "      <td>Completed Graduate School</td>\n",
       "      <td>Children</td>\n",
       "      <td>False</td>\n",
       "      <td>False</td>\n",
       "      <td>True</td>\n",
       "      <td>15.098750</td>\n",
       "      <td>0.703125</td>\n",
       "      <td>0.000000</td>\n",
       "      <td>Discount Seeker</td>\n",
       "      <td>2021-12-27</td>\n",
       "    </tr>\n",
       "  </tbody>\n",
       "</table>\n",
       "<p>229155 rows × 63 columns</p>\n",
       "</div>"
      ],
      "text/plain": [
       "           customerid   memberstatus memberoriginalstartdate memberstartdate  \\\n",
       "0       1000000203689  Former Member              2021-05-21      2021-05-21   \n",
       "1       1000001147756  Former Member              2021-02-19      2021-02-19   \n",
       "2       1000002762037  Former Member              2021-07-20      2021-07-20   \n",
       "3       1000005528183  Former Member              2020-09-05      2020-09-05   \n",
       "4       1000006380346  Former Member              2021-01-23      2021-01-23   \n",
       "...               ...            ...                     ...             ...   \n",
       "229150  1000022694745  Active Member              2021-12-09      2021-12-09   \n",
       "229151  1000022729336  Active Member              2021-12-11      2021-12-11   \n",
       "229152  1000022791141  Active Member              2021-12-16      2021-12-16   \n",
       "229153  1000022797878  Active Member              2021-11-04      2021-11-04   \n",
       "229154  1000022870380  Active Member              2020-06-17      2020-06-17   \n",
       "\n",
       "       firsttransaction MemberExpirationDate  month lastrechargedate  \\\n",
       "0            2021-05-26                 None      5       2021-06-26   \n",
       "1            2021-02-19                 None      2       2021-04-19   \n",
       "2            2021-07-20           2021-12-20      7       2021-11-20   \n",
       "3            2020-09-05           2021-02-05      9       2021-01-05   \n",
       "4            2021-01-23                 None      1       2021-12-15   \n",
       "...                 ...                  ...    ...              ...   \n",
       "229150       2021-12-09                 None     12       2021-12-09   \n",
       "229151       2021-12-11                 None     12       2021-12-11   \n",
       "229152       2021-12-16                 None     12       2021-12-16   \n",
       "229153       2021-11-04                 None     11       2021-12-04   \n",
       "229154       2020-06-17                 None      6       2021-12-17   \n",
       "\n",
       "         calcstart calclastrecharge  ...                  education  \\\n",
       "0       2021-05-21       2021-06-26  ...      Completed High School   \n",
       "1       2021-02-19       2021-04-19  ...      Completed High School   \n",
       "2       2021-07-20       2021-11-20  ...  Completed Graduate School   \n",
       "3       2020-09-05       2021-01-05  ...                       None   \n",
       "4       2021-01-23       2021-12-15  ...  Completed Graduate School   \n",
       "...            ...              ...  ...                        ...   \n",
       "229150  2021-12-09       2021-12-09  ...          Completed College   \n",
       "229151  2021-12-11       2021-12-11  ...                       None   \n",
       "229152  2021-12-16       2021-12-16  ...      Completed High School   \n",
       "229153  2021-11-04       2021-12-04  ...          Completed College   \n",
       "229154  2020-06-17       2021-12-17  ...  Completed Graduate School   \n",
       "\n",
       "        numberchildren  phonecollected  emailcollected  addresscollected  \\\n",
       "0             Children            True            True              True   \n",
       "1             Children            True            True              True   \n",
       "2             Children            True            True              True   \n",
       "3             Children           False           False              True   \n",
       "4             Children            True            True              True   \n",
       "...                ...             ...             ...               ...   \n",
       "229150        Children            True            True              True   \n",
       "229151        Children            True           False              True   \n",
       "229152        Children            True            True              True   \n",
       "229153        Children            True           False              True   \n",
       "229154        Children           False           False              True   \n",
       "\n",
       "        revenue_per_member_month  frequency_per_member_month  \\\n",
       "0                      30.625000                    0.250000   \n",
       "1                      26.242500                    9.321429   \n",
       "2                      31.848571                    3.357143   \n",
       "3                      30.800000                    5.000000   \n",
       "4                       3.871111                    0.888889   \n",
       "...                          ...                         ...   \n",
       "229150                  0.010000                    1.000000   \n",
       "229151                  0.010000                    1.000000   \n",
       "229152                  0.010000                    1.000000   \n",
       "229153                 22.995000                    1.000000   \n",
       "229154                 15.098750                    0.703125   \n",
       "\n",
       "        discounts_per_member_month           Cluster     RunDate  \n",
       "0                        -2.625000       Low Revenue  2021-12-27  \n",
       "1                        -0.642857  Platinum Members  2021-12-27  \n",
       "2                         0.000000       Low Revenue  2021-12-27  \n",
       "3                         0.000000       Low Revenue  2021-12-27  \n",
       "4                        -0.500000  Discount Seekers  2021-12-27  \n",
       "...                            ...               ...         ...  \n",
       "229150                    0.000000       High Tenure  2021-12-27  \n",
       "229151                    0.000000       High Tenure  2021-12-27  \n",
       "229152                    0.000000       High Tenure  2021-12-27  \n",
       "229153                    0.000000  Discount Seekers  2021-12-27  \n",
       "229154                    0.000000   Discount Seeker  2021-12-27  \n",
       "\n",
       "[229155 rows x 63 columns]"
      ]
     },
     "execution_count": 39,
     "metadata": {},
     "output_type": "execute_result"
    }
   ],
   "source": [
    "print(export.shape)\n",
    "export"
   ]
  },
  {
   "cell_type": "code",
   "execution_count": 40,
   "metadata": {},
   "outputs": [],
   "source": [
    "# change date to string for creating table in BigQuery\n",
    "export[[\"RunDate\", \"memberoriginalstartdate\", \"memberstartdate\", \"firsttransaction\", \"MemberExpirationDate\", \"lastrechargedate\", \"calcstart\", \"calclastrecharge\", \"calcexpiration\"]] = export[[\"RunDate\", \"memberoriginalstartdate\", \"memberstartdate\", \"firsttransaction\", \"MemberExpirationDate\", \"lastrechargedate\", \"calcstart\", \"calclastrecharge\", \"calcexpiration\"]].astype('string')"
   ]
  },
  {
   "cell_type": "code",
   "execution_count": null,
   "metadata": {},
   "outputs": [],
   "source": [
    "export = export_lastweek.append(export)"
   ]
  },
  {
   "cell_type": "code",
   "execution_count": 41,
   "metadata": {},
   "outputs": [
    {
     "name": "stderr",
     "output_type": "stream",
     "text": [
      "100% 1/1 [00:00<00:00, 5645.09it/s]\n"
     ]
    }
   ],
   "source": [
    "import pandas_gbq\n",
    "\n",
    "\n",
    "\n",
    "export.to_gbq('tia_tsou.Member_Clustering_K-Means_test', 'driven-insights', if_exists='replace')"
   ]
  },
  {
   "cell_type": "code",
   "execution_count": null,
   "metadata": {},
   "outputs": [],
   "source": [
    "#export.to_csv(r'Member_Clustering_K-Means_6_Clusters_12172021_.csv', header=True, index=False, encoding='utf-8')"
   ]
  },
  {
   "cell_type": "code",
   "execution_count": 42,
   "metadata": {},
   "outputs": [],
   "source": [
    "export_lastweek = export"
   ]
  },
  {
   "cell_type": "code",
   "execution_count": null,
   "metadata": {},
   "outputs": [],
   "source": []
  },
  {
   "cell_type": "markdown",
   "metadata": {
    "tags": []
   },
   "source": [
    "### Clustering Performance Evaluation"
   ]
  },
  {
   "cell_type": "code",
   "execution_count": null,
   "metadata": {},
   "outputs": [],
   "source": [
    "# from sklearn import metrics\n",
    "# from sklearn.metrics import pairwise_distances"
   ]
  },
  {
   "cell_type": "code",
   "execution_count": null,
   "metadata": {},
   "outputs": [],
   "source": [
    "# labels_a = kmeans_model_a.labels_"
   ]
  },
  {
   "cell_type": "code",
   "execution_count": null,
   "metadata": {},
   "outputs": [],
   "source": [
    "# labels_b = kmeans_model_b.labels_"
   ]
  },
  {
   "cell_type": "markdown",
   "metadata": {},
   "source": [
    "##### Silhouette Coefficient"
   ]
  },
  {
   "cell_type": "code",
   "execution_count": null,
   "metadata": {},
   "outputs": [],
   "source": [
    "# metrics.silhouette_score(df2, labels_a, metric='euclidean')"
   ]
  },
  {
   "cell_type": "code",
   "execution_count": null,
   "metadata": {},
   "outputs": [],
   "source": [
    "# metrics.silhouette_score(df2, labels_b, metric='euclidean')"
   ]
  },
  {
   "cell_type": "markdown",
   "metadata": {},
   "source": [
    "The Silhouette score is bounded between -1 for incorrect clustering and +1 for highly dense clustering. Scores around zero indicate overlapping clusters."
   ]
  },
  {
   "cell_type": "markdown",
   "metadata": {},
   "source": [
    "##### Calinski-Harabasz Index¶"
   ]
  },
  {
   "cell_type": "code",
   "execution_count": null,
   "metadata": {},
   "outputs": [],
   "source": [
    "# metrics.calinski_harabasz_score(df2, labels_a)"
   ]
  },
  {
   "cell_type": "code",
   "execution_count": null,
   "metadata": {},
   "outputs": [],
   "source": [
    "# metrics.calinski_harabasz_score(df2, labels_b)"
   ]
  },
  {
   "cell_type": "markdown",
   "metadata": {},
   "source": [
    "The score is higher when clusters are dense and well separated, which relates to a standard concept of a cluster."
   ]
  },
  {
   "cell_type": "markdown",
   "metadata": {},
   "source": [
    "##### Davies-Bouldin Index"
   ]
  },
  {
   "cell_type": "code",
   "execution_count": null,
   "metadata": {},
   "outputs": [],
   "source": [
    "# from sklearn.metrics import davies_bouldin_score"
   ]
  },
  {
   "cell_type": "code",
   "execution_count": null,
   "metadata": {},
   "outputs": [],
   "source": [
    "# davies_bouldin_score(df2, labels_a)"
   ]
  },
  {
   "cell_type": "code",
   "execution_count": null,
   "metadata": {},
   "outputs": [],
   "source": [
    "# davies_bouldin_score(df2, labels_b)"
   ]
  },
  {
   "cell_type": "markdown",
   "metadata": {},
   "source": [
    "- Zero is the lowest possible score. Values closer to zero indicate a better partition.\n",
    "- The average ‘similarity’ between clusters. Similarity is a measure that compares the distance between clusters with the size of the clusters themselves"
   ]
  },
  {
   "cell_type": "code",
   "execution_count": null,
   "metadata": {},
   "outputs": [],
   "source": []
  }
 ],
 "metadata": {
  "kernelspec": {
   "display_name": "Python 3 (ipykernel)",
   "language": "python",
   "name": "python3"
  },
  "language_info": {
   "codemirror_mode": {
    "name": "ipython",
    "version": 3
   },
   "file_extension": ".py",
   "mimetype": "text/x-python",
   "name": "python",
   "nbconvert_exporter": "python",
   "pygments_lexer": "ipython3",
   "version": "3.7.12"
  }
 },
 "nbformat": 4,
 "nbformat_minor": 4
}
